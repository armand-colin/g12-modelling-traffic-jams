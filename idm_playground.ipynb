{
 "cells": [
  {
   "cell_type": "code",
   "execution_count": 1,
   "metadata": {},
   "outputs": [],
   "source": [
    "from models.idm import IDM, IDMParameters\n",
    "import matplotlib.pyplot as plt\n",
    "import numpy as np\n",
    "import matplotlib"
   ]
  },
  {
   "cell_type": "code",
   "execution_count": 2,
   "metadata": {},
   "outputs": [
    {
     "data": {
      "text/plain": [
       "array([9.91917659e-12, 5.98910966e-02, 1.19779967e-01, ...,\n",
       "       2.26366336e+03, 2.26372352e+03, 2.26378194e+03])"
      ]
     },
     "execution_count": 2,
     "metadata": {},
     "output_type": "execute_result"
    }
   ],
   "source": [
    "model = IDM()\n",
    "model.set(IDMParameters(t_max=1000.0, dt=0.01, v0_noise=0.2))\n",
    "model.integrate()\n",
    "model.evaluate_jam()"
   ]
  },
  {
   "cell_type": "code",
   "execution_count": 17,
   "metadata": {},
   "outputs": [],
   "source": [
    "i = 0\n",
    "for i in range(model.iterations):\n",
    "    if model.jam_evaluation[i] > 1000:\n",
    "        break\n",
    "jam_time = model.time[i]\n",
    "jam_i = i"
   ]
  },
  {
   "cell_type": "code",
   "execution_count": 20,
   "metadata": {},
   "outputs": [],
   "source": [
    "jump_car = 1 # The bigger, the less cars we see on the graph\n",
    "\n",
    "x = model.x\n",
    "time = model.time\n",
    "\n",
    "fig, (position, evaluation) = plt.subplots(1, 2, figsize=(10, 3.5))\n",
    "\n",
    "# position\n",
    "for i in range(0, model.N, 2):\n",
    "    position.plot(time, x[i,:], lw=0.3, c=\"k\")\n",
    "\n",
    "position.set_xlabel(\"time\")\n",
    "position.set_ylabel(\"position\")\n",
    "ylim = position.get_ylim()\n",
    "position.vlines(jam_time, 0, ylim[1], lw=[0.5], colors=[\"r\"])\n",
    "\n",
    "# jam evaluation\n",
    "evaluation.plot(time, model.jam_evaluation)\n",
    "evaluation.set_xlabel(\"time\")\n",
    "evaluation.set_ylabel(\"jam evaluation\")\n",
    "ylim = evaluation.get_ylim()\n",
    "xlim = evaluation.get_xlim()\n",
    "evaluation.vlines(jam_time, 0, ylim[1], colors=[\"r\"], lw=[0.5])\n",
    "evaluation.hlines(model.jam_evaluation[jam_i], xlim[0], xlim[1], colors=[\"k\"], lw=[0.5], linestyles=[\"dotted\"])\n",
    "\n",
    "matplotlib.use(\"pgf\")\n",
    "matplotlib.rcParams.update({\n",
    "    \"pgf.texsystem\": \"pdflatex\",\n",
    "    'font.family': 'serif',\n",
    "    'text.usetex': True,\n",
    "    'pgf.rcfonts': False,\n",
    "})\n",
    "\n",
    "plt.savefig(\"figures/idm_test.pgf\")\n",
    "plt.close()"
   ]
  }
 ],
 "metadata": {
  "interpreter": {
   "hash": "aee8b7b246df8f9039afb4144a1f6fd8d2ca17a180786b69acc140d282b71a49"
  },
  "kernelspec": {
   "display_name": "Python 3.9.7 64-bit",
   "name": "python3"
  },
  "language_info": {
   "codemirror_mode": {
    "name": "ipython",
    "version": 3
   },
   "file_extension": ".py",
   "mimetype": "text/x-python",
   "name": "python",
   "nbconvert_exporter": "python",
   "pygments_lexer": "ipython3",
   "version": "3.9.7"
  },
  "orig_nbformat": 4
 },
 "nbformat": 4,
 "nbformat_minor": 2
}
