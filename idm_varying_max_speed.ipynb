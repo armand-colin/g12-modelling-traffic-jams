{
 "cells": [
  {
   "cell_type": "code",
   "execution_count": 1,
   "metadata": {},
   "outputs": [],
   "source": [
    "from models.idm import IDM, IDMParameters\n",
    "import matplotlib.pyplot as plt\n",
    "import numpy as np\n",
    "import sys\n",
    "import matplotlib"
   ]
  },
  {
   "cell_type": "code",
   "execution_count": 20,
   "metadata": {},
   "outputs": [
    {
     "name": "stdout",
     "output_type": "stream",
     "text": [
      "duration not none 30000\n"
     ]
    },
    {
     "data": {
      "text/plain": [
       "array([9.91917659e-12, 5.77874268e-01, 1.15552586e+00, ...,\n",
       "       4.09646879e+02, 4.09634936e+02, 4.09622983e+02])"
      ]
     },
     "execution_count": 20,
     "metadata": {},
     "output_type": "execute_result"
    }
   ],
   "source": [
    "model = IDM()\n",
    "\n",
    "low_time = 3000.0\n",
    "high_time = 3000.0\n",
    "\n",
    "low_vmax = 5.0\n",
    "high_vmax = 25.0\n",
    "\n",
    "parameters = IDMParameters(t_max=low_time + high_time, v_max=high_vmax, dt=0.1)\n",
    "model.set(parameters)\n",
    "\n",
    "model.integrate(low_time)\n",
    "model.v_max = low_vmax\n",
    "model.integrate()\n",
    "model.evaluate_jam()"
   ]
  },
  {
   "cell_type": "code",
   "execution_count": 26,
   "metadata": {},
   "outputs": [],
   "source": [
    "jump = 4\n",
    "fig, (pos, ev) = plt.subplots(1, 2, figsize=(10, 3.5))\n",
    "\n",
    "for i in range(0, model.N, jump):\n",
    "    x = model.x[i,:]\n",
    "    pos.plot(model.time, x, lw=0.3, c=\"k\")\n",
    "pos.set_xlabel(\"time\")\n",
    "pos.set_ylabel(\"position\")\n",
    "ylim = pos.get_ylim()\n",
    "pos.vlines(low_time, ylim[0], ylim[1], colors=[\"r\"], lw=[0.5])\n",
    "\n",
    "avg_speed = np.zeros(model.iterations)\n",
    "for i in range(model.iterations):\n",
    "    avg_speed[i] = np.average(model.v[:,i])\n",
    "\n",
    "ev.plot(model.time, model.jam_evaluation)\n",
    "ev.plot(model.time, avg_speed * 100, c=\"k\")\n",
    "ev.set_xlabel(\"time\")\n",
    "ev.legend([\"jam evaluation\", \"average speed * 100\"])\n",
    "ylim = ev.get_ylim()\n",
    "ev.vlines(low_time, ylim[0], ylim[1], colors=[\"r\"], lw=[0.5])\n",
    "\n",
    "matplotlib.use(\"pgf\")\n",
    "matplotlib.rcParams.update({\n",
    "    \"pgf.texsystem\": \"pdflatex\",\n",
    "    'font.family': 'serif',\n",
    "    'text.usetex': True,\n",
    "    'pgf.rcfonts': False,\n",
    "})\n",
    "\n",
    "plt.savefig(\"figures/idm_varying_max_speed.pgf\")\n",
    "plt.close()"
   ]
  }
 ],
 "metadata": {
  "interpreter": {
   "hash": "aee8b7b246df8f9039afb4144a1f6fd8d2ca17a180786b69acc140d282b71a49"
  },
  "kernelspec": {
   "display_name": "Python 3.9.7 64-bit",
   "name": "python3"
  },
  "language_info": {
   "codemirror_mode": {
    "name": "ipython",
    "version": 3
   },
   "file_extension": ".py",
   "mimetype": "text/x-python",
   "name": "python",
   "nbconvert_exporter": "python",
   "pygments_lexer": "ipython3",
   "version": "3.9.7"
  },
  "orig_nbformat": 4
 },
 "nbformat": 4,
 "nbformat_minor": 2
}
