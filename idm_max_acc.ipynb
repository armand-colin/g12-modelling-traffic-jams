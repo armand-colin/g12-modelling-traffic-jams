{
 "cells": [
  {
   "cell_type": "code",
   "execution_count": 1,
   "metadata": {},
   "outputs": [],
   "source": [
    "from models.idm import IDM, IDMParameters\n",
    "from test_runner import TestRunner\n",
    "import matplotlib.pyplot as plt\n",
    "import numpy as np\n",
    "import sys\n",
    "import matplotlib"
   ]
  },
  {
   "cell_type": "code",
   "execution_count": 8,
   "metadata": {},
   "outputs": [
    {
     "name": "stdout",
     "output_type": "stream",
     "text": [
      "Progress 92 % ( a_max: 1.5000000000000004 )\n",
      "Done\n"
     ]
    }
   ],
   "source": [
    "max_acceleration_range = np.arange(0.2, 1.5001, 0.1)\n",
    "model = IDM()\n",
    "parameters = IDMParameters(dt=0.01, t_max=5000.0)\n",
    "testrunner = TestRunner(model, parameters)\n",
    "\n",
    "time, jam_times = testrunner.run(\"a_max\", max_acceleration_range, 1000.0)"
   ]
  },
  {
   "cell_type": "code",
   "execution_count": 11,
   "metadata": {},
   "outputs": [],
   "source": [
    "plt.plot(max_acceleration_range, jam_times)\n",
    "plt.xlabel(\"max acceleration\")\n",
    "plt.ylabel(\"time to jam\")\n",
    "\n",
    "matplotlib.use(\"pgf\")\n",
    "matplotlib.rcParams.update({\n",
    "    \"pgf.texsystem\": \"pdflatex\",\n",
    "    'font.family': 'serif',\n",
    "    'text.usetex': True,\n",
    "    'pgf.rcfonts': False,\n",
    "})\n",
    "\n",
    "plt.savefig(\"figures/idm_max_acceleration_approximation.pgf\")\n",
    "plt.close()"
   ]
  }
 ],
 "metadata": {
  "interpreter": {
   "hash": "aee8b7b246df8f9039afb4144a1f6fd8d2ca17a180786b69acc140d282b71a49"
  },
  "kernelspec": {
   "display_name": "Python 3.9.7 64-bit",
   "name": "python3"
  },
  "language_info": {
   "codemirror_mode": {
    "name": "ipython",
    "version": 3
   },
   "file_extension": ".py",
   "mimetype": "text/x-python",
   "name": "python",
   "nbconvert_exporter": "python",
   "pygments_lexer": "ipython3",
   "version": "3.9.7"
  },
  "orig_nbformat": 4
 },
 "nbformat": 4,
 "nbformat_minor": 2
}
