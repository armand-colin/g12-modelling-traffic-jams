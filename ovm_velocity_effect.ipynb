{
 "cells": [
  {
   "cell_type": "code",
   "execution_count": 1,
   "metadata": {},
   "outputs": [],
   "source": [
    "from ovm import OVM, OVMParameters\n",
    "import matplotlib.pyplot as plt\n",
    "import numpy as np\n",
    "import matplotlib\n",
    "import sys"
   ]
  },
  {
   "cell_type": "code",
   "execution_count": 8,
   "metadata": {},
   "outputs": [],
   "source": [
    "# switch to normal draw / pgf rendering\n",
    "def set_pgf(use_pgf: bool):\n",
    "    if use_pgf:\n",
    "        matplotlib.use(\"pgf\")\n",
    "        matplotlib.rcParams.update({\n",
    "            \"pgf.texsystem\": \"pdflatex\",\n",
    "            'font.family': 'serif',\n",
    "            'text.usetex': True,\n",
    "            'pgf.rcfonts': False,\n",
    "        })\n",
    "    else:\n",
    "        matplotlib.use(\"MacOSX\")\n",
    "        matplotlib.rcParams.update({\n",
    "            \"pgf.texsystem\": \"pdflatex\",\n",
    "            'font.family': 'serif',\n",
    "            'text.usetex': False,\n",
    "            'pgf.rcfonts': False,\n",
    "        })\n",
    "\n",
    "# renders the current plot to a pgf file\n",
    "def render(filename: str):\n",
    "    plt.savefig(\"figures/\"+filename)\n",
    "\n",
    "# Set this value then run the cell in order to apply the changes\n",
    "set_pgf(True)"
   ]
  },
  {
   "cell_type": "code",
   "execution_count": null,
   "metadata": {},
   "outputs": [],
   "source": [
    "jam_threshold = 50\n",
    "model = OVM()\n",
    "parameters = OVMParameters(dt=0.1, t_max=1000.0, max_distance=4.0)"
   ]
  },
  {
   "cell_type": "code",
   "execution_count": null,
   "metadata": {},
   "outputs": [],
   "source": [
    "max_speeds = np.arange(1, 20.001, 0.1)\n",
    "jam_time = np.zeros(max_speeds.size)\n",
    "\n",
    "for i in np.arange(0, max_speeds.size):\n",
    "    print(\"Computing max speed \" + str(max_speeds[i]))\n",
    "    parameters.max_speed = max_speeds[i]\n",
    "    model.set(parameters)\n",
    "    model.integrate()\n",
    "    model.evaluate_jam()\n",
    "    idx = np.diff(model.jam_evaluation > jam_threshold, prepend=False)\n",
    "    times = model.time[idx]\n",
    "    jam_time[i] = times[0] if times.size > 0 else parameters.t_max"
   ]
  },
  {
   "cell_type": "code",
   "execution_count": 67,
   "metadata": {},
   "outputs": [],
   "source": [
    "plt.plot(max_speeds, jam_time)\n",
    "plt.xlabel(\"maximum velocity\")\n",
    "plt.ylabel(\"time to jam\")\n",
    "\n",
    "plt.show()\n",
    "# render(\"ovm_speed_comparison_2.pgf\")"
   ]
  },
  {
   "cell_type": "code",
   "execution_count": 3,
   "metadata": {},
   "outputs": [],
   "source": [
    "jam_threshold = 50\n",
    "parameters2 = OVMParameters(dt=0.01, t_max=1000.0, max_speed=4.0)\n",
    "model2 = OVM()\n",
    "model2.set(parameters2)"
   ]
  },
  {
   "cell_type": "code",
   "execution_count": 4,
   "metadata": {},
   "outputs": [
    {
     "name": "stdout",
     "output_type": "stream",
     "text": [
      "Progress 98%Done\n"
     ]
    }
   ],
   "source": [
    "max_distances = np.arange(1.0, 10.001, 0.1)\n",
    "jam_time = np.zeros(max_distances.size)\n",
    "jams = np.zeros(shape=(max_distances.size, model2.iterations))\n",
    "\n",
    "for i in np.arange(0, max_distances.size):\n",
    "    sys.stdout.write(\"\\rProgress \" + str(int(i / max_distances.size * 100.0)) + \"%\")\n",
    "    sys.stdout.flush()\n",
    "    \n",
    "    parameters2.max_distance = max_distances[i]\n",
    "    model2.set(parameters2)\n",
    "    model2.integrate()\n",
    "    model2.evaluate_jam()\n",
    "    jams[i,:] = model2.jam_evaluation\n",
    "print(\"Done\")"
   ]
  },
  {
   "cell_type": "code",
   "execution_count": 5,
   "metadata": {},
   "outputs": [],
   "source": [
    "for i in np.arange(0, max_distances.size):\n",
    "    jam = jams[i,:]\n",
    "    idx = np.diff(jam > jam_threshold, prepend=False)\n",
    "    times = model2.time[idx]\n",
    "    jam_time[i] = times[0] if times.size > 0 else parameters2.t_max"
   ]
  },
  {
   "cell_type": "code",
   "execution_count": 9,
   "metadata": {},
   "outputs": [],
   "source": [
    "plt.plot(max_distances, jam_time)\n",
    "plt.xlabel(\"maximum distance\")\n",
    "plt.ylabel(\"time to jam\")\n",
    "\n",
    "render(\"ovm_distance_comparison_2.pgf\")"
   ]
  }
 ],
 "metadata": {
  "interpreter": {
   "hash": "aee8b7b246df8f9039afb4144a1f6fd8d2ca17a180786b69acc140d282b71a49"
  },
  "kernelspec": {
   "display_name": "Python 3.9.7 64-bit",
   "name": "python3"
  },
  "language_info": {
   "codemirror_mode": {
    "name": "ipython",
    "version": 3
   },
   "file_extension": ".py",
   "mimetype": "text/x-python",
   "name": "python",
   "nbconvert_exporter": "python",
   "pygments_lexer": "ipython3",
   "version": "3.9.7"
  },
  "orig_nbformat": 4
 },
 "nbformat": 4,
 "nbformat_minor": 2
}
