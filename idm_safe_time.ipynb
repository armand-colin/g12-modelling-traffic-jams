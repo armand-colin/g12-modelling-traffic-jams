{
 "cells": [
  {
   "cell_type": "code",
   "execution_count": 1,
   "metadata": {},
   "outputs": [],
   "source": [
    "from models.idm import IDM, IDMParameters\n",
    "import matplotlib.pyplot as plt\n",
    "import numpy as np\n",
    "import sys\n",
    "import matplotlib"
   ]
  },
  {
   "cell_type": "code",
   "execution_count": 5,
   "metadata": {},
   "outputs": [
    {
     "name": "stdout",
     "output_type": "stream",
     "text": [
      "Progress 96.0 %\n",
      "Done\n"
     ]
    }
   ],
   "source": [
    "safe_time_range = np.arange(0.6, 3.0001, 0.1)\n",
    "model = IDM()\n",
    "parameters = IDMParameters(dt=0.01, t_max=1000.0, v_max=20.0)\n",
    "\n",
    "data = []\n",
    "\n",
    "for i in range(len(safe_time_range)):\n",
    "    safe_time = safe_time_range[i]\n",
    "    sys.stdout.write(\"\\rProgress \" + str(i * 1.0 / len(safe_time_range) * 100.0) + \" %\")\n",
    "    sys.stdout.flush()\n",
    "\n",
    "    parameters.T = safe_time\n",
    "\n",
    "    model.set(parameters)\n",
    "    model.integrate()\n",
    "    model.evaluate_jam()\n",
    "\n",
    "    data.append(model.jam_evaluation)\n",
    "\n",
    "print(\"\\nDone\")"
   ]
  },
  {
   "cell_type": "code",
   "execution_count": 6,
   "metadata": {},
   "outputs": [],
   "source": [
    "jam_threshold = 1000.0\n",
    "\n",
    "jam_times = []\n",
    "for jam_evaluation in data:\n",
    "    idx = np.diff(jam_evaluation > jam_threshold, prepend=False)\n",
    "    times = model.time[idx]\n",
    "    jam_times.append(times[0] if times.size > 0 else parameters.t_max)"
   ]
  },
  {
   "cell_type": "code",
   "execution_count": 8,
   "metadata": {},
   "outputs": [],
   "source": [
    "plt.plot(safe_time_range, jam_times)\n",
    "plt.xlabel(\"safe time\")\n",
    "plt.ylabel(\"time to jam\")\n",
    "\n",
    "matplotlib.use(\"pgf\")\n",
    "matplotlib.rcParams.update({\n",
    "    \"pgf.texsystem\": \"pdflatex\",\n",
    "    'font.family': 'serif',\n",
    "    'text.usetex': True,\n",
    "    'pgf.rcfonts': False,\n",
    "})\n",
    "\n",
    "plt.savefig(\"figures/idm_safe_time_approximation.pgf\")\n",
    "plt.close()"
   ]
  }
 ],
 "metadata": {
  "interpreter": {
   "hash": "aee8b7b246df8f9039afb4144a1f6fd8d2ca17a180786b69acc140d282b71a49"
  },
  "kernelspec": {
   "display_name": "Python 3.9.7 64-bit",
   "name": "python3"
  },
  "language_info": {
   "codemirror_mode": {
    "name": "ipython",
    "version": 3
   },
   "file_extension": ".py",
   "mimetype": "text/x-python",
   "name": "python",
   "nbconvert_exporter": "python",
   "pygments_lexer": "ipython3",
   "version": "3.9.7"
  },
  "orig_nbformat": 4
 },
 "nbformat": 4,
 "nbformat_minor": 2
}
